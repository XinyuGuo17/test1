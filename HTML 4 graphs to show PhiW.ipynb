{
 "cells": [
  {
   "cell_type": "code",
   "execution_count": 1,
   "metadata": {
    "collapsed": true
   },
   "outputs": [],
   "source": [
    "#nbi:hide_in\n",
    "#%matplotlib notebook\n",
    "import numpy as np\n",
    "from matplotlib import pyplot as plt\n",
    "from matplotlib.animation import FuncAnimation\n",
    "plt.style.use('seaborn-pastel')\n",
    "import matplotlib.gridspec as gridspec\n",
    "from ipywidgets import interact, interactive, fixed,interact_manual,VBox,HBox\n",
    "import ipywidgets as widgets\n",
    "from scipy.optimize import fsolve\n",
    "import nbinteract as nbi\n"
   ]
  },
  {
   "cell_type": "code",
   "execution_count": 2,
   "metadata": {
    "collapsed": true
   },
   "outputs": [],
   "source": [
    "#nbi:hide_in\n",
    "def J1(a,b,c1,c2,d,h1,h2):\n",
    "    return a-b*(h1+h2)-b*h1-c1-d*h1\n",
    "\n",
    "def J2(a,b,c1,c2,d,h1,h2):\n",
    "    return a-b*(h1+h2)-b*h2-c2-d*h2\n",
    "\n",
    "def unconstrainedCournot(a,b,c1,c2,d):\n",
    "    Q=(2*a-c1-c2)/(2*b+b+d)\n",
    "    q1=(a-b*Q-c1)/(b+d)\n",
    "    q2=(a-b*Q-c2)/(b+d)\n",
    "    return [q1,q2]\n",
    "def BR1(a,b,c1,d,h2):\n",
    "    return max(0,(a-b*h2-c1)/(2*b+d))\n",
    "def BR2(a,b,c2,d,h1):\n",
    "    return max(0,(a-b*h1-c2)/(2*b+d))\n",
    "\n",
    "def harvestFunction(a,b,c1,c2,d,e1,e2):\n",
    "    if e1+e2 > sum(unconstrainedCournot(a,b,c1,c2,d)):\n",
    "        if e1< unconstrainedCournot(a,b,c1,c2,d)[0]:\n",
    "            return [e1,BR2(a,b,c2,d,e1)]\n",
    "        elif e2 <unconstrainedCournot(a,b,c1,c2,d)[1]:\n",
    "            return [BR1(a,b,c1,d,e2),e2]\n",
    "        else:\n",
    "            return unconstrainedCournot(a,b,c1,c2,d)\n",
    "    else:\n",
    "        if J1(a,b,c1,c2,d,e1,e2)>0 and J2(a,b,c1,c2,d,e1,e2)<0:\n",
    "            return [e1,BR2(a,b,c2,d,e1)]\n",
    "        elif J1(a,b,c1,c2,d,e1,e2)<0 and J2(a,b,c1,c2,d,e1,e2)>0:\n",
    "            return [BR1(a,b,c1,d,e2),e2]\n",
    "        else:\n",
    "            return [e1,e2]\n",
    "\n",
    "\n",
    "def costFcn(c1,c2,d,h1,h2):\n",
    "    return c1*h1+0.5*d*h1**2 + c2*h2+0.5*d*h2**2\n",
    "\n",
    "def revenueFcn(a,b,h1,h2):\n",
    "    return (a-b*(h1+h2))*(h1+h2)\n",
    "\n",
    "def totalProfit(a,b,c1,c2,d,h1,h2):\n",
    "    prfit= revenueFcn(a,b,h1,h2) - costFcn(c1,c2,d,h1,h2)\n",
    "    return prfit\n",
    "\n",
    "def welfare(a,b,c1,c2,d,h1,h2):\n",
    "    return (a+a-b*(h1+h2))*(h1+h2)/2-c1*h1-0.5*d*h1**2 - c2*h2-0.5*d*h2**2\n",
    "\n",
    "def indexSet(l):\n",
    "    mx=max(l)\n",
    "    idx=[]\n",
    "    for i in range(len(l)):\n",
    "        if l[i]==mx:\n",
    "            idx.append(i)\n",
    "    return idx\n",
    "\n",
    "#for a given share cap s and Qbar, return E*\n",
    "def optE(a,b,c1,c2,d,Qbar,s):\n",
    "    e1list=np.linspace(Qbar*s,Qbar*(1-s), int((2*s-1)*1000)+1)\n",
    "    e2list=np.linspace(Qbar*(1-s),Qbar*s, int((2*s-1)*1000)+1)\n",
    "    profitlist=[]\n",
    "    optEset=[]\n",
    "    for i in range(len(e1list)):\n",
    "        h1,h2=harvestFunction(a,b,c1,c2,d,e1list[i],e2list[i])\n",
    "        profitlist.append(totalProfit(a,b,c1,c2,d,h1,h2))\n",
    "    for x in indexSet(profitlist): \n",
    "        optEset.append((e1list[x],e2list[x]))\n",
    "    return optEset\n",
    "\n",
    "def cost1(h1,c1,d):\n",
    "     return c1*h1+0.5*d*h1**2\n",
    "def cost2(h2,c2,d):\n",
    "     return c2*h2+0.5*d*h2**2\n",
    "\n",
    "def mc1(h1,c1,d):\n",
    "    return c1+d*h1\n",
    "def mc2(h2,c2,d):\n",
    "    return c2+d*h2\n",
    "\n",
    "def mincost(Q,c1,c2,d):\n",
    "    if d>0:\n",
    "        if Q<(c2-c1)/d:\n",
    "            return cost1(Q,c1,d)\n",
    "        else:\n",
    "            q1=Q/2-(c1-(c1+c2)/2)/d\n",
    "            q2=Q/2-(c2-(c1+c2)/2)/d\n",
    "            return cost1(q1,c1,d)+cost2(q2,c2,d)\n",
    "    elif d==0:\n",
    "        return cost1(Q,c1,d)\n",
    "\n",
    "def efficiencyIndex(c1,c2,d,h1,h2):\n",
    "    return mincost(h1+h2,c1,c2,d)/costFcn(c1,c2,d,h1,h2)\n",
    "\n",
    "def profit1(a,b,c1,c2,d,h1,h2):\n",
    "    return (a-b*(h1+h2))*h1 -cost1(h1,c1,d)\n",
    "\n",
    "def profit2(a,b,c1,c2,d,h1,h2):\n",
    "    return (a-b*(h1+h2))*h2 -cost2(h2,c2,d)\n",
    "\n",
    "def zeroProfitQ(a,b,c1,c2,d):\n",
    "    Qhat=(2*a-c1-c2)/(2*b+d)    \n",
    "    return Qhat\n",
    "# 1st best welfare\n",
    "def maxWelfare(a,b,c1,c2,d,q1,q2):\n",
    "    Q=min(q1+q2, zeroProfitQ(a,b,c1,c2,d))\n",
    "    return (a+a-b*Q)*Q/2-  mincost(Q,c1,c2,d)\n",
    "\n",
    "def realizedWelfareRatio(a,b,c1,c2,d,h1,h2,q1,q2):\n",
    "    return  welfare(a,b,c1,c2,d,h1,h2)/maxWelfare(a,b,c1,c2,d,q1,q2)"
   ]
  },
  {
   "cell_type": "code",
   "execution_count": 3,
   "metadata": {},
   "outputs": [],
   "source": [
    "#nbi:hide_in\n",
    "\n",
    "def plotAllFour(a,b,c1,c2,d,Qbar):\n",
    "    plt.close()\n",
    "    fig,ax = plt.subplots(1,4, figsize=(18, 4))\n",
    "    e1list=np.linspace(0,Qbar,201)\n",
    "    e2list=Qbar-e1list\n",
    "    h1list=[]\n",
    "    h2list=[]\n",
    "    Hlist=[]\n",
    "    profit1list=[]\n",
    "    profit2list=[]\n",
    "    profitList=[]\n",
    "    mc1list=[]\n",
    "    mc2list=[]\n",
    "    for e1 in e1list:\n",
    "        e2=Qbar-e1\n",
    "        h1,h2 = harvestFunction(a,b,c1,c2,d,e1,Qbar-e1)\n",
    "        h1list.append(h1)\n",
    "        h2list.append(h2)\n",
    "        Hlist.append(h1+h2)\n",
    "        profit1list.append(profit1(a,b,c1,c2,d,h1,h2))\n",
    "        profit2list.append(profit2(a,b,c1,c2,d,h1,h2))\n",
    "        profitList.append(totalProfit(a,b,c1,c2,d,h1,h2))\n",
    "        mc1list.append(mc1(h1,c1,d))\n",
    "        mc2list.append(mc2(h2,c2,d))\n",
    "    def plotProfit(ax,ee1):\n",
    "        ax.set(xlim=[0,Qbar],ylim=[min(profit2list)*0.9,max(profitList)*1.05] ,xlabel=r\"$q_1$\",ylabel=r\"Profit\")\n",
    "        ax.spines['top'].set_visible(False)\n",
    "        ax.spines['right'].set_linewidth(2.5)\n",
    "        ax.spines['left'].set_linewidth(2.5)\n",
    "        ax.spines['bottom'].set_linewidth(2.5)    \n",
    "        h1,h2 = harvestFunction(a,b,c1,c2,d,ee1,Qbar-ee1)\n",
    "        Pi=totalProfit(a,b,c1,c2,d,h1,h2)     \n",
    "        Pi1=profit1(a,b,c1,c2,d,h1,h2) \n",
    "        Pi2=profit2(a,b,c1,c2,d,h1,h2) \n",
    "        ax.plot(e1list,profitList,label=r\"Industry Profit : $\\Pi$\",lw=2 ,color=\"black\",alpha=0.8)\n",
    "        ax.plot(e1list,profit1list,label=r\"$\\pi_1$\" ,color=\"red\" ,alpha=0.8)\n",
    "        ax.plot(e1list,profit2list,label=r\"$\\pi_2$\" ,color=\"blue\" ,alpha=0.8)\n",
    "        ax.scatter(ee1,Pi,c=\"black\",s=15,alpha=1,marker='o')\n",
    "        ax.scatter(ee1,Pi1,c=\"black\",s=22,alpha=1,marker='o')\n",
    "        ax.scatter(ee1,Pi2,c=\"black\",s=22,alpha=1,marker='o')\n",
    "        ax.legend()\n",
    "    def plotHarvest(ax,ee1):\n",
    "        ax.set(xlim=[0,Qbar],ylim=[min(h2list)*0.9,max(Hlist)*1.05] ,xlabel=r\"$q_1$\",ylabel=r\"Harvest\")\n",
    "        ax.spines['top'].set_visible(False)\n",
    "        ax.spines['right'].set_linewidth(2.5)\n",
    "        ax.spines['left'].set_linewidth(2.5)\n",
    "        ax.spines['bottom'].set_linewidth(2.5)    \n",
    "        h1,h2 = harvestFunction(a,b,c1,c2,d,ee1,Qbar-ee1)\n",
    "        ax.plot(e1list,Hlist,label=r\"Industry Harvest : $H$\",lw=2 ,color=\"black\",alpha=0.8)\n",
    "        ax.plot(e1list,h1list,label=r\"$h_1$\" ,color=\"red\" ,alpha=0.8)\n",
    "        ax.plot(e1list,h2list,label=r\"$h_2$\" ,color=\"blue\" ,alpha=0.8)\n",
    "        ax.scatter(ee1,h1+h2,c=\"black\",s=15,alpha=1,marker='o')\n",
    "        ax.scatter(ee1,h1,c=\"black\",s=22,alpha=1,marker='o')\n",
    "        ax.scatter(ee1,h2,c=\"black\",s=22,alpha=1,marker='o')\n",
    "        ax.legend()\n",
    "    def plotMC(ax,ee1):\n",
    "        ax.set(xlim=[0,Qbar],ylim=[min(mc1list)*0.9,max(mc2list)*1.05] ,xlabel=r\"$q_1$\",ylabel=\"Marginal Cost\")\n",
    "        ax.spines['top'].set_visible(False)\n",
    "        ax.spines['right'].set_linewidth(2.5)\n",
    "        ax.spines['left'].set_linewidth(2.5)\n",
    "        ax.spines['bottom'].set_linewidth(2.5)    \n",
    "        h1,h2 = harvestFunction(a,b,c1,c2,d,ee1,Qbar-ee1)\n",
    "        ax.plot(e1list,mc1list,label=r\"$MC_1$\" ,color=\"red\" ,alpha=0.8)\n",
    "        ax.plot(e1list,mc2list,label=r\"$MC_2$\" ,color=\"blue\" ,alpha=0.8)\n",
    "        ax.scatter(ee1,mc1(h1,c1,d),c=\"black\",s=22,alpha=1,marker='o')\n",
    "        ax.scatter(ee1,mc2(h2,c2,d),c=\"black\",s=22,alpha=1,marker='o')\n",
    "        ax.legend()\n",
    "    \n",
    "    def plotPhi(ax1):\n",
    "        ax1.set(xlim=[0.5,1],xlabel=r\"$s$\",ylabel=\"Efficiency\")\n",
    "        ax1.spines['top'].set_visible(False)\n",
    "        ax1.spines['right'].set_visible(False)\n",
    "        ax1.spines['left'].set_linewidth(2)\n",
    "        ax1.spines['bottom'].set_linewidth(2)\n",
    "        ax1.yaxis.set_ticks_position('none') \n",
    "        ax1.xaxis.set_ticks_position('none') \n",
    "        ax1.set_yticklabels([])\n",
    "        ax1.set_xticklabels([])\n",
    "\n",
    "        slist=np.linspace(0.5,1,51)\n",
    "        realizedRatioLst=[]\n",
    "        for s in slist:\n",
    "            e1star,e2star = optE(a,b,c1,c2,d,Qbar,s)[0]  \n",
    "            h1star,h2star = harvestFunction(a,b,c1,c2,d,e1star,e2star)  \n",
    "            costEffIdx=round(efficiencyIndex(c1,c2,d,h1star,h2star),4)\n",
    "            realizedRatio = round(realizedWelfareRatio(a,b,c1,c2,d,h1star,h2star,e1star,e2star),4)\n",
    "            realizedRatioLst.append(realizedRatio)\n",
    "        ax1.plot(slist,realizedRatioLst,label=r\"$\\Phi^W(s)$\",marker='x',color=\"black\",linestyle=\"dotted\")\n",
    "        ax1.legend()\n",
    "        strrr=r\"$\\alpha=$\" + str(a)+ \"\\n\"+r\"$\\beta=$\" + str(round(b,2))+ \"\\n\"+r\"$\\theta_1=$\"+ str(c1)+ \"\\n\"+r\"$\\theta_2=$\"+ str(round(c2,2))+ \"\\n\"+ r\"$\\eta=$\"+ str(round(d,2))+ \"\\n\"+ r\"$\\bar{Q}=$\"+ str(round(Qbar,2))\n",
    "        # Label the parameter \n",
    "        ax1.annotate(strrr,(0.95,0.9))\n",
    "        return ax1\n",
    "    \n",
    "\n",
    "    plotPhi(ax[3])\n",
    "    def animate(i):\n",
    "        ax[0].clear()\n",
    "        ax[1].clear()\n",
    "        ax[2].clear()\n",
    "        #ax[3].clear()\n",
    "        plotProfit(ax[0],e1list[i])\n",
    "        plotHarvest(ax[1],e1list[i])\n",
    "        plotMC(ax[2],e1list[i])\n",
    "    \n",
    "    anim = FuncAnimation(fig, animate,frames=len(e1list), interval=50)\n",
    "    return anim"
   ]
  },
  {
   "cell_type": "code",
   "execution_count": 4,
   "metadata": {
    "scrolled": true
   },
   "outputs": [
    {
     "data": {
      "text/plain": [
       "<matplotlib.animation.FuncAnimation at 0x233bd6d9a58>"
      ]
     },
     "execution_count": 4,
     "metadata": {},
     "output_type": "execute_result"
    },
    {
     "data": {
      "image/png": "[encoded data removed]",
      "text/plain": [
       "<Figure size 1296x288 with 4 Axes>"
      ]
     },
     "metadata": {
      "needs_background": "light"
     },
     "output_type": "display_data"
    }
   ],
   "source": [
    "#nbi:hide_in\n",
    "\n",
    "plotAllFour(a=10,b=1,c1=0,c2=2,d=1,Qbar=5)"
   ]
  },
  {
   "cell_type": "code",
   "execution_count": null,
   "metadata": {
    "collapsed": true
   },
   "outputs": [],
   "source": []
  },
  {
   "cell_type": "code",
   "execution_count": 5,
   "metadata": {
    "scrolled": false
   },
   "outputs": [
    {
     "data": {
      "application/vnd.jupyter.widget-view+json": {
       "model_id": "1e42af229ad4417689a79d9426e7c6b2",
       "version_major": 2,
       "version_minor": 0
      },
      "text/plain": [
       "interactive(children=(BoundedFloatText(value=1.0, description='$\\\\beta$', layout=Layout(height='100%', width='…"
      ]
     },
     "metadata": {},
     "output_type": "display_data"
    }
   ],
   "source": [
    "#nbi:hide_in \n",
    "bb=widgets.BoundedFloatText(min=0,max=10,value=1,description=r\"$\\beta$\",step=0.1,layout=widgets.Layout(width='15%', height='100%'))\n",
    "cc1=widgets.BoundedFloatText(min=0,max=8,value=2,description=r\"$\\theta_1$\",step=0.1,layout=widgets.Layout(width='15%', height='100%'))\n",
    "cc2=widgets.BoundedFloatText(min=0,max=8,value=2,description=r\"$\\theta_2$\",step=0.1,layout=widgets.Layout(width='15%', height='100%'))\n",
    "dd=widgets.BoundedFloatText(min=0,max=10,value=1,description=r\"$\\eta$\",step=0.1,layout=widgets.Layout(width='15%', height='100%'))\n",
    "QQ=widgets.BoundedFloatText(min=1,max=10,value=5,description=r\"$\\bar{Q}$\",step=0.1,layout=widgets.Layout(width='15%', height='100%'))\n",
    "aa=widgets.BoundedFloatText(min=10,max=20,value=15,description=r\"$\\alpha$\",step=0.1,layout=widgets.Layout(width='15%', height='100%'))\n",
    "widgets.interactive(plotAllFour,{'manual': True},a= fixed(10),b=bb,c1=fixed(0),c2=cc2,d=dd,Qbar=QQ) #{'a':aa,'b':bb,'c1':cc1,'c2':cc2,'d':dd,'Qbar':QQ}\n"
   ]
  },
  {
   "cell_type": "code",
   "execution_count": 6,
   "metadata": {},
   "outputs": [
    {
     "data": {
      "application/javascript": [
       "IPython.notebook.save_checkpoint();"
      ],
      "text/plain": [
       "<IPython.core.display.Javascript object>"
      ]
     },
     "metadata": {},
     "output_type": "display_data"
    },
    {
     "data": {
      "application/javascript": [
       "IPython.notebook.save_notebook();"
      ],
      "text/plain": [
       "<IPython.core.display.Javascript object>"
      ]
     },
     "metadata": {},
     "output_type": "display_data"
    },
    {
     "name": "stdout",
     "output_type": "stream",
     "text": [
      "Saving notebook... Saved 'HTML 4 graphs to show PhiW.ipynb'.\n",
      "Converting notebook...\n"
     ]
    },
    {
     "data": {
      "text/markdown": [
       "\n",
       "Successfully converted!\n",
       "\n",
       "<a href=\"HTML 4 graphs to show PhiW.html\" target=\"_blank\" download>Click to download your webpage.</a>\n",
       "\n",
       "To host your webpage, see the documentation:\n",
       "<a href=\"https://www.nbinteract.com/tutorial/tutorial_publishing.html\"\n",
       "        target=\"_blank\">\n",
       "    https://www.nbinteract.com/tutorial/tutorial_publishing.html\n",
       "</a>\n"
      ],
      "text/plain": [
       "<IPython.core.display.Markdown object>"
      ]
     },
     "metadata": {},
     "output_type": "display_data"
    }
   ],
   "source": [
    "#nbi:hide_in\n",
    "nbi.publish(\"XinyuGuo17/test1/master\", \"HTML 4 graphs to show PhiW.ipynb\")"
   ]
  }
 ],
 "metadata": {
  "kernelspec": {
   "display_name": "Python 3",
   "language": "python",
   "name": "python3"
  },
  "language_info": {
   "codemirror_mode": {
    "name": "ipython",
    "version": 3
   },
   "file_extension": ".py",
   "mimetype": "text/x-python",
   "name": "python",
   "nbconvert_exporter": "python",
   "pygments_lexer": "ipython3",
   "version": "3.6.3"
  }
 },
 "nbformat": 4,
 "nbformat_minor": 4
}
