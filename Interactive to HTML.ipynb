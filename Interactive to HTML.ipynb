{
 "cells": [
  {
   "cell_type": "code",
   "execution_count": 1,
   "metadata": {
    "collapsed": true
   },
   "outputs": [],
   "source": [
    "#%matplotlib notebook\n",
    "import numpy as np\n",
    "from matplotlib import pyplot as plt\n",
    "from matplotlib.animation import FuncAnimation\n",
    "plt.style.use('seaborn-pastel')\n",
    "import matplotlib.gridspec as gridspec\n",
    "from ipywidgets import interact, interactive, fixed\n",
    "from scipy.optimize import fsolve\n",
    "import nbinteract as nbi\n"
   ]
  },
  {
   "cell_type": "code",
   "execution_count": 2,
   "metadata": {
    "collapsed": true
   },
   "outputs": [],
   "source": [
    "#nbi:hide_in\n",
    "def J1(a,b,c1,c2,d,h1,h2):\n",
    "    return a-b*(h1+h2)-b*h1-c1-d*h1\n",
    "\n",
    "def J2(a,b,c1,c2,d,h1,h2):\n",
    "    return a-b*(h1+h2)-b*h2-c2-d*h2\n",
    "\n",
    "def unconstrainedCournot(a,b,c1,c2,d):\n",
    "    Q=(2*a-c1-c2)/(2*b+b+d)\n",
    "    q1=(a-b*Q-c1)/(b+d)\n",
    "    q2=(a-b*Q-c2)/(b+d)\n",
    "    return [q1,q2]\n",
    "def BR1(a,b,c1,d,h2):\n",
    "    return max(0,(a-b*h2-c1)/(2*b+d))\n",
    "def BR2(a,b,c2,d,h1):\n",
    "    return max(0,(a-b*h1-c2)/(2*b+d))\n",
    "\n",
    "def harvestFunction(a,b,c1,c2,d,e1,e2):\n",
    "    if e1+e2 > sum(unconstrainedCournot(a,b,c1,c2,d)):\n",
    "        if e1< unconstrainedCournot(a,b,c1,c2,d)[0]:\n",
    "            return [e1,BR2(a,b,c2,d,e1)]\n",
    "        elif e2 <unconstrainedCournot(a,b,c1,c2,d)[1]:\n",
    "            return [BR1(a,b,c1,d,e2),e2]\n",
    "        else:\n",
    "            return unconstrainedCournot(a,b,c1,c2,d)\n",
    "    else:\n",
    "        if J1(a,b,c1,c2,d,e1,e2)>0 and J2(a,b,c1,c2,d,e1,e2)<0:\n",
    "            return [e1,BR2(a,b,c2,d,e1)]\n",
    "        elif J1(a,b,c1,c2,d,e1,e2)<0 and J2(a,b,c1,c2,d,e1,e2)>0:\n",
    "            return [BR1(a,b,c1,d,e2),e2]\n",
    "        else:\n",
    "            return [e1,e2]\n",
    "\n",
    "\n",
    "def costFcn(c1,c2,d,h1,h2):\n",
    "    return c1*h1+0.5*d*h1**2 + c2*h2+0.5*d*h2**2\n",
    "\n",
    "def revenueFcn(a,b,h1,h2):\n",
    "    return (a-b*(h1+h2))*(h1+h2)\n",
    "\n",
    "def totalProfit(a,b,c1,c2,d,h1,h2):\n",
    "    prfit= revenueFcn(a,b,h1,h2) - costFcn(c1,c2,d,h1,h2)\n",
    "    return prfit\n",
    "\n",
    "def welfare(a,b,c1,c2,d,h1,h2):\n",
    "    return (a+a-b*(h1+h2))*(h1+h2)/2-c1*h1-0.5*d*h1**2 - c2*h2-0.5*d*h2**2\n",
    "\n",
    "def indexSet(l):\n",
    "    mx=max(l)\n",
    "    idx=[]\n",
    "    for i in range(len(l)):\n",
    "        if l[i]==mx:\n",
    "            idx.append(i)\n",
    "    return idx\n",
    "\n",
    "#for a given share cap s and Qbar, return E*\n",
    "def optE(a,b,c1,c2,d,Qbar,s):\n",
    "    e1list=np.linspace(Qbar*s,Qbar*(1-s), int((2*s-1)*1000)+1)\n",
    "    e2list=np.linspace(Qbar*(1-s),Qbar*s, int((2*s-1)*1000)+1)\n",
    "    profitlist=[]\n",
    "    optEset=[]\n",
    "    for i in range(len(e1list)):\n",
    "        h1,h2=harvestFunction(a,b,c1,c2,d,e1list[i],e2list[i])\n",
    "        profitlist.append(totalProfit(a,b,c1,c2,d,h1,h2))\n",
    "    for x in indexSet(profitlist): \n",
    "        optEset.append((e1list[x],e2list[x]))\n",
    "    return optEset\n",
    "\n",
    "def cost1(h1,c1,d):\n",
    "     return c1*h1+0.5*d*h1**2\n",
    "def cost2(h2,c2,d):\n",
    "     return c2*h2+0.5*d*h2**2\n",
    "    \n",
    "def mincost(Q,c1,c2,d):\n",
    "    if d>0:\n",
    "        if Q<(c2-c1)/d:\n",
    "            return cost1(Q,c1,d)\n",
    "        else:\n",
    "            q1=Q/2-(c1-(c1+c2)/2)/d\n",
    "            q2=Q/2-(c2-(c1+c2)/2)/d\n",
    "            return cost1(q1,c1,d)+cost2(q2,c2,d)\n",
    "    elif d==0:\n",
    "        return cost1(Q,c1,d)\n",
    "\n",
    "def efficiencyIndex(c1,c2,d,h1,h2):\n",
    "    return mincost(h1+h2,c1,c2,d)/costFcn(c1,c2,d,h1,h2)\n",
    "\n",
    "def profit1(a,b,c1,c2,d,h1,h2):\n",
    "    return (a-b*(h1+h2))*h1 -cost1(h1,c1,d)\n",
    "\n",
    "def profit2(a,b,c1,c2,d,h1,h2):\n",
    "    return (a-b*(h1+h2))*h2 -cost2(h2,c2,d)\n",
    "\n",
    "def zeroProfitQ(a,b,c1,c2,d):\n",
    "    Qhat=(2*a-c1-c2)/(2*b+d)    \n",
    "    return Qhat\n",
    "\n",
    "# 1st best welfare\n",
    "def maxWelfare(a,b,c1,c2,d,q1,q2):\n",
    "    Q=min(q1+q2, zeroProfitQ(a,b,c1,c2,d))\n",
    "    return (a+a-b*Q)*Q/2-  mincost(Q,c1,c2,d)\n",
    "\n",
    "def realizedWelfareRatio(a,b,c1,c2,d,h1,h2,q1,q2):\n",
    "    return  welfare(a,b,c1,c2,d,h1,h2)/maxWelfare(a,b,c1,c2,d,q1,q2)"
   ]
  },
  {
   "cell_type": "code",
   "execution_count": 3,
   "metadata": {
    "collapsed": true
   },
   "outputs": [],
   "source": [
    "def plotEfficiency_sGraph2(a=10,xlen=5,b=1,c1=3,c2=4,d=1,Qbar=4,s=1,caseName='Efficiency Changing s',ylow=0.8,yhigh=1.02,showCEff=False,saveP=False):\n",
    "    fig=plt.figure(figsize=(8,6))\n",
    "    ax1=fig.add_subplot(111)\n",
    "    \n",
    "    ax1.set(xlim=[0.5,1],ylim=[ylow,yhigh])\n",
    "    ax1.spines['top'].set_visible(False)\n",
    "    ax1.spines['right'].set_visible(False)\n",
    "    ax1.spines['left'].set_linewidth(2)\n",
    "    ax1.spines['bottom'].set_linewidth(2)\n",
    "    ax1.yaxis.set_ticks_position('none') \n",
    "    ax1.xaxis.set_ticks_position('none') \n",
    "    ax1.set_yticklabels([])\n",
    "    ax1.set_xticklabels([])\n",
    "\n",
    "    slist=np.linspace(0.5,1,51)\n",
    "    costEffIdxLst=[]\n",
    "    realizedRatioLst=[]\n",
    "    for s in slist:\n",
    "        e1star,e2star = optE(a,b,c1,c2,d,Qbar,s)[0]  \n",
    "        h1star,h2star = harvestFunction(a,b,c1,c2,d,e1star,e2star)  \n",
    "        costEffIdx=round(efficiencyIndex(c1,c2,d,h1star,h2star),4)\n",
    "        realizedRatio = round(realizedWelfareRatio(a,b,c1,c2,d,h1star,h2star,e1star,e2star),4)\n",
    "        costEffIdxLst.append(costEffIdx)\n",
    "        realizedRatioLst.append(realizedRatio)\n",
    "    \n",
    "    if showCEff:\n",
    "        ax1.plot(slist,costEffIdxLst,label='Cost Efficiency Index',marker='o',color=\"black\",linestyle=\"dashed\",markersize=4)\n",
    "    ax1.plot(slist,realizedRatioLst,label='Realized Welfare Ratio',marker='x',color=\"black\",linestyle=\"dotted\")\n",
    "    #ax1.plot(slist,realizedRatioLst,label='Realized Welfare Ratio',color=\"black\",lw=2.5)\n",
    "\n",
    "    ax1.legend()\n",
    "    strrr=\"a=\" + str(a)+ \", b=\" + str(b)+\", c1=\"+ str(c1) + \" , c2=\" + str(c2) + \" , d=\"+ str(d)+ \" , Q=\"+ str(Qbar)+ \"  Efficiency when Changing s\"\n",
    "    fig.suptitle(strrr)\n",
    "    # Label the parameter \n",
    "    #ax1.text(2,4,strrr,color='black',fontsize=13)\n",
    "    fname=caseName+'.png'\n",
    "    if saveP:\n",
    "        plt.savefig(fname,dpi=290)\n",
    "    plt.show()"
   ]
  },
  {
   "cell_type": "code",
   "execution_count": 4,
   "metadata": {
    "collapsed": true
   },
   "outputs": [],
   "source": [
    "def plotChangingS(a=10,xlen=6.7,b=1,c1=3,c2=4,d=1,Qbar=4,s=1,prlv=10):\n",
    "    fig=plt.figure(figsize=(10,10))\n",
    "    ax1=fig.add_subplot(111)\n",
    "\n",
    "    ax1.set(xlim=[0,xlen],ylim=[0,xlen])\n",
    "    ax1.xaxis.set_ticks_position('none') \n",
    "    ax1.yaxis.set_ticks_position('none') \n",
    "    ax1.spines['top'].set_visible(False)\n",
    "    ax1.spines['right'].set_visible(False)\n",
    "    ax1.spines['left'].set_linewidth(2.5)\n",
    "    ax1.spines['bottom'].set_linewidth(2.5)\n",
    "    xlist=np.linspace(0.001,xlen,101)\n",
    "    ylist=np.linspace(0.001,xlen,101)\n",
    "    ax1.set_yticklabels([])\n",
    "    ax1.set_xticklabels([])\n",
    "\n",
    "    #draw BRs\n",
    "    br2=[]\n",
    "    br1=[]\n",
    "    for i in range(len(xlist)):\n",
    "        br2.append(BR2(a,b,c2,d,xlist[i]))\n",
    "        br1.append(BR1(a,b,c1,d,ylist[i]))\n",
    "    ax1.plot(xlist,br2,label='BRs',color='black',linewidth=1,linestyle='dashed',alpha=0.1)\n",
    "    ax1.plot(br1,ylist,color='black',linewidth=1,linestyle='dashed',alpha=0.1)\n",
    "    \n",
    "    \n",
    "    X,Y = np.meshgrid(xlist,ylist)\n",
    "    fProfit= lambda x,y: totalProfit(a,b,c1,c2,d,x,y)\n",
    "    fWelfare= lambda x,y: welfare(a,b,c1,c2,d,x,y)\n",
    "    \n",
    "    ZProfit=fProfit(X,Y)\n",
    "    ZWelfare=fWelfare(X,Y)\n",
    "    ZProfit[ZProfit<0]=0\n",
    "    ZWelfare[ZWelfare<0]=0\n",
    "    \n",
    "    \n",
    "    fzeffic=lambda x,y : efficiencyIndex(c1,c2,d,x,y)\n",
    "    Zef=np.zeros(np.shape(X))\n",
    "    for i in range (np.shape(Zef)[0]):\n",
    "        for j in range (np.shape(Zef)[1]):\n",
    "            Zef[i,j]=fzeffic(X[i,j],Y[i,j])\n",
    "    \n",
    "    cp=ax1.contour(X, Y, ZProfit,levels=prlv ,linewidths=1,linestyles='dashed',colors='black')\n",
    "\n",
    "    xlist=np.linspace(0.00001,5,51)\n",
    "    ylist=np.linspace(0.00001,5,51)\n",
    "    #ax1.plot(xlist,(1-s)/s *xlist, label='Share Cap',color='orange',linewidth=1.3,linestyle='-.',alpha=0.6)\n",
    "    #ax1.plot((1-s)/s * ylist,ylist,color='orange',linewidth=1.3,linestyle='-.',alpha=0.6)\n",
    "    h1list=[]\n",
    "    h2list=[]\n",
    "    e1list=[]\n",
    "    e2list=[]\n",
    "\n",
    "    slist=np.linspace(0.5,1,101)\n",
    "    for i in range(len(slist)):\n",
    "        e1,e2 = optE(a,b,c1,c2,d,Qbar,slist[i])[0]\n",
    "        h1,h2 = harvestFunction(a,b,c1,c2,d,e1,e2)\n",
    "        e1list.append(e1)\n",
    "        e2list.append(e2)\n",
    "        h1list.append(h1)\n",
    "        h2list.append(h2)\n",
    "        \n",
    "    ax1.scatter(e1list,e2list,c=range(len(e1list)),cmap='viridis_r',s=15,alpha=0.7,marker='x')#,label=\"QB holding movement\")\n",
    "    ax1.scatter(h1list,h2list,c=range(len(e1list)),cmap='viridis_r',s=4,alpha=0.7,marker='o')#,label=\"Harvest movement\")    \n",
    "    ax1.plot(xlist,xlist,linewidth=0.1,c='black')\n",
    "    \n",
    "    for Q in np.linspace(0,5,201):\n",
    "            qq1=Q/2-(c1-(c1+c2)/2)/d\n",
    "            qq2=Q/2-(c2-(c1+c2)/2)/d\n",
    "            ax1.scatter(qq1,qq2,s=2,alpha=0.7,marker='.',color='gray')#,label=\"Harvest movement\")    \n",
    "\n",
    "    strrr=\"a=\" + str(a)+ \", b=\" + str(b)+\", c1=\"+ str(c1) + \" , c2=\" + str(c2) + \" , d=\"+ str(d)+ \" , Q=\"+ str(Qbar)\n",
    "    fig.suptitle(strrr)\n",
    "    plt.show()"
   ]
  },
  {
   "cell_type": "code",
   "execution_count": 5,
   "metadata": {
    "collapsed": true
   },
   "outputs": [],
   "source": [
    "def returnBdRegionB1(a,b,c1,c2,d):\n",
    "    h1_eff= lambda Q: Q/2-(c1-c2)/(2*d)\n",
    "    h2_eff= lambda Q: Q/2-(c2-c1)/(2*d)\n",
    "    br2=lambda h1: (a-b*h1-c2)/(2*b+d)\n",
    "\n",
    "    fcn = lambda Q: totalProfit(a,b,c1,c2,d,h1_eff(Q),h2_eff(Q))-totalProfit(a,b,c1,c2,d,h2_eff(Q),br2(h2_eff(Q)))\n",
    "    x=fsolve(fcn,a)[0]\n",
    "    return x"
   ]
  },
  {
   "cell_type": "code",
   "execution_count": 6,
   "metadata": {
    "collapsed": true
   },
   "outputs": [],
   "source": [
    "def interactivePlotAll(a,b,c1,c2,d,Qbar):\n",
    "    plt.close()\n",
    "    fig=plt.figure(figsize=(9,6.1))\n",
    "    gs = gridspec.GridSpec(2, 3)\n",
    "    ax2=fig.add_subplot(gs[:, 1:3])\n",
    "    ax0=fig.add_subplot(gs[0, 0])\n",
    "    ax1=fig.add_subplot(gs[1, 0])\n",
    "    \n",
    "    \n",
    "    ax0.set_xlim(c1,8)\n",
    "    ax0.set_ylim(0,8)\n",
    "    ax0.set_xlabel(r'$\\Delta_\\theta$')\n",
    "    ax0.set_ylabel(r'$\\bar{Q}$')\n",
    "    ax0.set_title(\"Parameters\")\n",
    "    ax1.set_xlabel('s')\n",
    "    ax1.set_title(r'$\\phi^{W}(s)$ function')\n",
    "    ax1.set_xlim(0.5,1)\n",
    "    ax1.set_ylim(0.8,1)\n",
    "    ax2.set_xlim(0,a*0.75)\n",
    "    ax2.set_ylim(0,a*0.75)\n",
    "    ax2.set_title(\"Corresponding BR Graph\")\n",
    "\n",
    "    xlist = np.linspace(0, 10, 100)\n",
    "    ylist = np.linspace(0, 10, 100)\n",
    "    X, Y = np.meshgrid(xlist, ylist)\n",
    "    Q2hatFn=lambda c2: 1/(2*b+0.5*d) * (a-(c1+c2)/2 +  b/(2*d*(2*b+d)*(b*b+4*b*d+d*d))**0.5  *( (a-c2)*d -2*b*(c2-c1)))\n",
    "\n",
    "    blist=np.linspace(0.1,2,21)\n",
    "    dlist=np.linspace(0.1,2,21)\n",
    "    slist=np.linspace(0.5,1,101)\n",
    "\n",
    "    c2list=np.linspace(c1,8,51)\n",
    "    X,Y = np.meshgrid(xlist,ylist)\n",
    "    P1M=(a*b+a*d+b*c1)/(2*b+d) \n",
    "    MC1M= (a*d+2*b*c1)/(2*b+d) \n",
    "    Q1M=(a-c1)/(2*b+d)\n",
    "    C2U=(b+d)/(2*b+d)*P1M+ b/(2*b+d)*MC1M\n",
    "    Q2hat0= Q2hatFn(c1)\n",
    "    x = [c1,MC1M,C2U,C2U]\n",
    "    y = [Q2hat0,Q1M,Q1M,a]\n",
    "    ax0.plot(x, y)\n",
    "    ax0.scatter(c2, Qbar,c='r')\n",
    "    costEffIdxLst=[]\n",
    "    realizedRatioLst=[]\n",
    "    h1list=[]\n",
    "    h2list=[]\n",
    "    e1list=[]\n",
    "    e2list=[]\n",
    "    for s in slist:\n",
    "        e1star,e2star = optE(a,b,c1,c2,d,Qbar,s)[0]  \n",
    "        h1star,h2star = harvestFunction(a,b,c1,c2,d,e1star,e2star) \n",
    "        e1list.append(e1star)\n",
    "        e2list.append(e2star)\n",
    "        h1list.append(h1star)\n",
    "        h2list.append(h2star)\n",
    "        costEffIdx=round(efficiencyIndex(c1,c2,d,h1star,h2star),4)\n",
    "        realizedRatio = round(realizedWelfareRatio(a,b,c1,c2,d,h1star,h2star,e1star,e2star),4)\n",
    "        costEffIdxLst.append(costEffIdx)\n",
    "        realizedRatioLst.append(realizedRatio)\n",
    "    \n",
    "    #ax1.plot(slist,realizedRatioLst,color=\"black\") #\n",
    "    ax1.scatter(slist,realizedRatioLst,c=range(len(e1list)),cmap='viridis_r',s=4,alpha=0.7,marker='o')\n",
    "    fProfit= lambda x,y: totalProfit(a,b,c1,c2,d,x,y)    \n",
    "    ZProfit=fProfit(X,Y)\n",
    "    ZProfit[ZProfit<0]=0\n",
    "    ax2.contour(X, Y, ZProfit,levels=8 ,linewidths=1,linestyles='dashed',colors='black',alpha=0.5) #\n",
    "    ax2.scatter(e1list,e2list,c=range(len(e1list)),cmap='viridis_r',s=15,alpha=0.7,marker='x')#,label=\"QB holding movement\")\n",
    "    ax2.scatter(h1list,h2list,c=range(len(e1list)),cmap='viridis_r',s=4,alpha=0.7,marker='o')#,label=\"Harvest movement\") \n",
    "    ax2.plot(np.linspace(0,5,10),np.linspace(0,5,10),linewidth=0.1,c='black')\n",
    "    \n",
    "    for Q in np.linspace(0,5,41):\n",
    "            qq1=Q/2-(c1-(c1+c2)/2)/d\n",
    "            qq2=Q/2-(c2-(c1+c2)/2)/d\n",
    "            ax2.scatter(qq1,qq2,s=2,alpha=0.7,marker='.',color='gray')#,label=\"Harvest movement\")    \n",
    "     \n",
    "    br2=[]\n",
    "    br1=[]\n",
    "    for j in range(len(xlist)):\n",
    "        br2.append(BR2(a,b,c2,d,xlist[j]))\n",
    "        br1.append(BR1(a,b,c1,d,xlist[j]))\n",
    "    ax2.plot(xlist,br2,color='black',linewidth=1,linestyle='dashed',alpha=0.1)\n",
    "    ax2.plot(br1,xlist,color='black',linewidth=1,linestyle='dashed',alpha=0.1)\n",
    "    Qe= lambda c2: (2*a-c1-c2+b*(c1-c2)/d )/(3*b+d)  \n",
    "\n",
    "    QeNew= lambda c2: 1/(2*b+0.5*d) * (a-(c2+c1)/2 +  b/(2*d*(2*b+d)*(b*b+4*b*d+d*d))**0.5  *( (a-c1)*d -2*b*(c1-c2)))\n",
    "    xlist1=np.linspace(c1,MC1M,100)\n",
    "    ax0.plot(xlist1,Qe(xlist1),lw=1,alpha=0.5)\n",
    "    ax0.plot(xlist1,QeNew(xlist1),lw=1,alpha=0.5)\n",
    "    bdr1=[]\n",
    "    for c2 in xlist1:\n",
    "        bdr1.append(returnBdRegionB1(a,b,c1,c2,d))\n",
    "    ax0.plot(xlist1,bdr1,lw=1,alpha=0.5)    \n",
    "    strrr=r\"$\\alpha=$\" + str(a)+ r\", $\\beta=$\" + str(round(b,2))+r\"$, \\theta_1=$\"+ str(c1) + \"\\n \"+ r\"$, \\eta=$\"+ str(round(d,2))+ r\"$, \\bar{Q}=$\"+ str(round(Qbar,2))\n",
    "    ax0.annotate(strrr,(1,1))\n",
    "    plt.tight_layout()\n",
    "    plt.show()"
   ]
  },
  {
   "cell_type": "code",
   "execution_count": 7,
   "metadata": {
    "scrolled": false
   },
   "outputs": [
    {
     "data": {
      "application/vnd.jupyter.widget-view+json": {
       "model_id": "b5d75b47663e42fead01fb1ff075252d",
       "version_major": 2,
       "version_minor": 0
      },
      "text/plain": [
       "interactive(children=(FloatSlider(value=1.5000000000000002, description='b', max=3.0, min=0.1), FloatSlider(va…"
      ]
     },
     "metadata": {},
     "output_type": "display_data"
    },
    {
     "data": {
      "text/plain": [
       "<function __main__.interactivePlotAll>"
      ]
     },
     "execution_count": 7,
     "metadata": {},
     "output_type": "execute_result"
    }
   ],
   "source": [
    "interact (interactivePlotAll,a= fixed(10),b=(0.1,3,0.1),c1=fixed(0),c2=(0,8,0.1),d=(0.1,3,0.1),Qbar=(1,10,0.1))"
   ]
  },
  {
   "cell_type": "code",
   "execution_count": 8,
   "metadata": {},
   "outputs": [
    {
     "data": {
      "application/javascript": [
       "IPython.notebook.save_checkpoint();"
      ],
      "text/plain": [
       "<IPython.core.display.Javascript object>"
      ]
     },
     "metadata": {},
     "output_type": "display_data"
    },
    {
     "data": {
      "application/javascript": [
       "IPython.notebook.save_notebook();"
      ],
      "text/plain": [
       "<IPython.core.display.Javascript object>"
      ]
     },
     "metadata": {},
     "output_type": "display_data"
    },
    {
     "name": "stdout",
     "output_type": "stream",
     "text": [
      "Saving notebook... Saved 'Interactive to HTML.ipynb'.\n",
      "Converting notebook...\n"
     ]
    },
    {
     "data": {
      "text/markdown": [
       "\n",
       "Successfully converted!\n",
       "\n",
       "<a href=\"Interactive to HTML.html\" target=\"_blank\" download>Click to download your webpage.</a>\n",
       "\n",
       "To host your webpage, see the documentation:\n",
       "<a href=\"https://www.nbinteract.com/tutorial/tutorial_publishing.html\"\n",
       "        target=\"_blank\">\n",
       "    https://www.nbinteract.com/tutorial/tutorial_publishing.html\n",
       "</a>\n"
      ],
      "text/plain": [
       "<IPython.core.display.Markdown object>"
      ]
     },
     "metadata": {},
     "output_type": "display_data"
    }
   ],
   "source": [
    "nbi.publish(\"XinyuGuo17/interactivePlot/master\", \"Interactive to HTML.ipynb\")"
   ]
  }
 ],
 "metadata": {
  "kernelspec": {
   "display_name": "Python 3",
   "language": "python",
   "name": "python3"
  },
  "language_info": {
   "codemirror_mode": {
    "name": "ipython",
    "version": 3
   },
   "file_extension": ".py",
   "mimetype": "text/x-python",
   "name": "python",
   "nbconvert_exporter": "python",
   "pygments_lexer": "ipython3",
   "version": "3.6.3"
  }
 },
 "nbformat": 4,
 "nbformat_minor": 2
}
